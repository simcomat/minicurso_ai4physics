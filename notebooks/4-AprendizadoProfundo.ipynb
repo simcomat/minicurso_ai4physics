{
 "cells": [
  {
   "cell_type": "markdown",
   "metadata": {
    "id": "_pT2j_ipvi11"
   },
   "source": [
    "# 4 - Aprendizado Profundo\n",
    "\n",
    "O aprendizado profundo consiste em técnicas de aprendizado de máquina que usam algoritmos baseados em Redes Neurais Artificiais. Existem várias arquiteturas possíveis para essas redes. Neste notebook vamos explorar uma Rede CNN (Convolutional Neural Network) usada para classificação de imagens."
   ]
  },
  {
   "cell_type": "markdown",
   "metadata": {
    "id": "WeAmJvehvi2X"
   },
   "source": [
    "--------------------------------\n",
    "## 1- Convolutional Neural Network usando Keras e TensorFlow\n",
    "\n",
    "#### Descrição geral:\n",
    "Vamos usar o dataset CIFAR 10, uma coleção de 60 mil imagens. As imagens são divididas em 10 classes, sendo 6000 exemplos para da classe. Ele é um subconjunto do 80 Million Tiny Images, contendo 80 mil imagens que foram rotuladas por estudantes.\n",
    "\n",
    "#### Objetivo:\n",
    "Neste exemplo, queremos criar um sistema de classificação automático para imagens, onde dada uma imagem é uma entrada que é classificada em uma das 10 classes.\n",
    "\n",
    "\n",
    "#### Features (variáveis de entrada):\n",
    "- Imagem: matriz de 32x32, RGB (3 canais de cores)\n",
    "\n",
    "#### Alvo (valor de saída):\n",
    "- Classe da imagem: \n",
    "    *   Aviões\n",
    "    *   Carros\n",
    "    *   Pássaros\n",
    "    *   Gatos\n",
    "    *   Veados\n",
    "    *   Cachorros\n",
    "    *   Sapos\n",
    "    *   Cavalos\n",
    "    *   Návios\n",
    "    *   Caminhões\n",
    "\n",
    "#### Referências:\n",
    "- https://paperswithcode.com/dataset/cifar-10 \n",
    "- https://en.wikipedia.org/wiki/CIFAR-10\n",
    "- Algumas das arquiteturas de rede aqui apresentadas foram adaptadas de exemplos de aula do professor Miguel Bozer."
   ]
  },
  {
   "cell_type": "code",
   "execution_count": null,
   "metadata": {
    "id": "DMoKJk9mhGVL"
   },
   "outputs": [],
   "source": [
    "# Bibliotecas gerais\n",
    "import numpy as np                     # Trabalhar com números\n",
    "import pandas as pd                    # Trabalhar com tabelas\n",
    "import matplotlib.pyplot as plt        # Gráficos\n",
    "\n",
    "# Bibliotecas para construir redes neurais\n",
    "import keras\n",
    "import tensorflow as tf\n",
    "from keras.models import Sequential\n",
    "from keras.models import load_model\n",
    "from keras.layers import Dense\n",
    "from keras.layers import Input\n",
    "from keras.layers.convolutional import Conv2D\n",
    "from tensorflow.keras.layers import Flatten\n",
    "from tensorflow.keras.layers import MaxPooling2D\n",
    "from tensorflow.keras.layers import Dropout\n",
    "from keras.utils.vis_utils import plot_model\n",
    "\n",
    "# Aprendizado de máquina geral - Métrica de Desempenho (teste)\n",
    "from sklearn.metrics import ConfusionMatrixDisplay, confusion_matrix, classification_report"
   ]
  },
  {
   "cell_type": "markdown",
   "metadata": {
    "id": "_cWZ2MRXsiM2"
   },
   "source": [
    "### 1 - Passo 1 e 2: carregando os dados e separando os dados\n",
    "\n",
    "O Keras possui uma API para carregar o Cifar-10 por se tratar de um dataset amplamente conhecido e usado. Perceba que ao carregar usando a biblioteca, já estamos separando as imagens em treino e teste. "
   ]
  },
  {
   "cell_type": "code",
   "execution_count": null,
   "metadata": {
    "id": "kNbFbNyOmhBO"
   },
   "outputs": [],
   "source": [
    "(train_images, train_labels), (test_images, test_labels) = tf.keras.datasets.cifar10.load_data()"
   ]
  },
  {
   "cell_type": "markdown",
   "metadata": {
    "id": "hCiNMdelpcnt"
   },
   "source": [
    "Plotando algumas das imagens:"
   ]
  },
  {
   "cell_type": "code",
   "execution_count": null,
   "metadata": {
    "colab": {
     "base_uri": "https://localhost:8080/",
     "height": 434
    },
    "id": "O6_iMDaVOQHY",
    "outputId": "ca152e8c-c9a4-4fc1-cba9-d6966b9d1efb"
   },
   "outputs": [],
   "source": [
    "for i in range(9):  \n",
    "    plt.subplot(330 + 1 + i) # define subplot\n",
    "    plt.imshow(train_images[i]) # plot raw pixel data\n",
    "# show the figure\n",
    "plt.show()"
   ]
  },
  {
   "cell_type": "markdown",
   "metadata": {
    "id": "7bdY4dd1C2Ud"
   },
   "source": [
    "Temos um total de 60000 imagens (50k para treino, 10k para teste) diferentes com dimensão de 32x32x3 pixels:"
   ]
  },
  {
   "cell_type": "code",
   "execution_count": null,
   "metadata": {
    "colab": {
     "base_uri": "https://localhost:8080/"
    },
    "id": "pCgpLqJTvi2c",
    "outputId": "fe5c438f-131f-4c17-d803-11d2bd8abd78"
   },
   "outputs": [],
   "source": [
    "len(train_images), len(train_labels), len(test_images), len(test_labels)"
   ]
  },
  {
   "cell_type": "code",
   "execution_count": null,
   "metadata": {
    "colab": {
     "base_uri": "https://localhost:8080/"
    },
    "id": "zylwc5LTy4CN",
    "outputId": "9d095af6-9231-46ad-e172-88246fb8079f"
   },
   "outputs": [],
   "source": [
    "train_images.shape"
   ]
  },
  {
   "cell_type": "markdown",
   "metadata": {
    "id": "pAoj8GxCvi2e"
   },
   "source": [
    "### 1 - Passo 3: trasnformação dos rótulos e imagens\n",
    "\n",
    "Vamos transformar os rótulos que estão em arrays numéricos em uma matriz de categorias.\n",
    "\n",
    "Ver https://www.tensorflow.org/api_docs/python/tf/keras/utils/to_categorical."
   ]
  },
  {
   "cell_type": "code",
   "execution_count": null,
   "metadata": {
    "colab": {
     "base_uri": "https://localhost:8080/"
    },
    "id": "oc3w8dnPr_Do",
    "outputId": "dd834b73-0fb7-4de8-e671-41000fc29624"
   },
   "outputs": [],
   "source": [
    "train_labels"
   ]
  },
  {
   "cell_type": "code",
   "execution_count": null,
   "metadata": {
    "colab": {
     "base_uri": "https://localhost:8080/"
    },
    "id": "UcjussucsdG2",
    "outputId": "9b6c2579-120a-48c3-aa3f-cc601504797c"
   },
   "outputs": [],
   "source": [
    "train_labels = tf.keras.utils.to_categorical(train_labels)\n",
    "train_labels.shape"
   ]
  },
  {
   "cell_type": "code",
   "execution_count": null,
   "metadata": {
    "colab": {
     "base_uri": "https://localhost:8080/"
    },
    "id": "tiRdA4rI8dHd",
    "outputId": "fbd4f817-c381-43dd-f9d9-36519589770b"
   },
   "outputs": [],
   "source": [
    "train_labels"
   ]
  },
  {
   "cell_type": "markdown",
   "metadata": {
    "id": "5LONf5OSvi2g"
   },
   "source": [
    "Cada imagem é uma matriz de números (no caso RGB, três matrizes). Cada posição da matriz é chamada de pixel e possui um valor de intensidade. Em uma imagem RGB 8 bits, a intesidade de cada cor tem um valor inteiro entre 0 e 255 ($2^8$ - ou seja, 8 bits de codificação por valor). Vamos normalizar esse valor para ficar entre 0 e 1. Ao dividir a matriz por um mesmo número, estamos divindo o valor de cada pixel por esse número."
   ]
  },
  {
   "cell_type": "code",
   "execution_count": null,
   "metadata": {
    "id": "qBO7MOB7qOpC"
   },
   "outputs": [],
   "source": [
    "# Normalizando os valores dos pixel para serem entre 0 e 1\n",
    "train_images, test_images = train_images / 255.0, test_images / 255.0"
   ]
  },
  {
   "cell_type": "markdown",
   "metadata": {
    "id": "chkgShMs3WvV"
   },
   "source": [
    "### 1 - Passo 4': Criando a Arquitetura da Rede Neural Artificial\n",
    "\n",
    "Neste passo queremos construir nosso algoritmo de Aprendizado de Máquina Supervisionado para classificar as imagens. De vez de usar um algoritmo pronto, iremos projetar o nosso próprio seguindo uma receita conhecida: Redes Neurais Artificias do tipo CNNs.\n",
    "\n",
    "Como queremos realizar o processamento de imagens, podemos usar **redes neurais convolucionais (CNN)**. Esse tipo de rede tem seus parâmetros em uma matriz (*kernel*) que processa toda a imagem passando por todos os seus pixels. Os elementos dessa matriz são exatamente os parâmetros que serão aprendidos pela rede. A cada etapa, ocorrerá um procedimento de multiplicação entre parte da imagem e a matriz de kernel, o que é semelhante a uma operação de convolução de sinais. Como imagens coloridas possuem três canais de cor (seguindo codificação RGB) haverá um *kernel* para cada canal.\n",
    "\n",
    "No nosso modelo de Rede Neural, vamos conectar sequencialmente diferentes camadas com diferentes propósitos. Após a primeira camada de entrada, vamos passar por duas camadas de Convolução. Perceba que as funções de ativação das camadas de convolução é uma função tipo ReLu. Na primeira camada densa, iremos manter a função de ativação ReLu, e na última camada da rede, usaremo uma função <code>Softmax</code> já que queremos fazer classificação.\n",
    "\n",
    "Na sequência das duas camadas de Convolução inciais, temos uma camada de <code>Max Pooling</code>. Essa camada é utilizada para fazer com que a rede seja invariante a pequenas alterações na posição da imagem nos pixels de entrada \n",
    "\n",
    "Temos também a camada de <code>Flatten</code> que apenas irá transformar a saída da terceira convolução (que é bidimensional) em um vetor. Isso é feito para que posteriormente seja possível implementar uma **rede neural densa** (como a rede Multilayer Perceptron)."
   ]
  },
  {
   "cell_type": "code",
   "execution_count": null,
   "metadata": {
    "id": "qxZPQPGHqvxE"
   },
   "outputs": [],
   "source": [
    "modelo = tf.keras.Sequential()\n",
    "\n",
    "modelo.add(Conv2D(16, (3, 3), activation='relu', input_shape=(32, 32, 3))) # Entra com imagem 32,32,3\n",
    "modelo.add(Conv2D(32, (3, 3), activation='relu')) # Segunda camada convolucional\n",
    "modelo.add(MaxPooling2D((2, 2),))                 # Camada de MaxPooling\n",
    "modelo.add(Conv2D(32, (3, 3), activation='relu')) # Terceira camada convolucional \n",
    "modelo.add(Flatten())                             # \n",
    "modelo.add(Dense(16, activation='relu'))          # Camada totalmente conectada\n",
    "modelo.add(Dense(10, activation='softmax'))       # Camada totalmente conectada para classificação\n"
   ]
  },
  {
   "cell_type": "markdown",
   "metadata": {
    "id": "bma5b8Z8XMZJ"
   },
   "source": [
    "Uma vez definida a arquitetura da rede, podemos finalizar dizendo qual será o método de otimização usado (parâmetro <code>optimizer</code>), a função de custo que será usada (parâmetro <code>loss</code>) e a métrica de desempenho que gostariamos de medir (parâmetro <code>metrics</codes>)."
   ]
  },
  {
   "cell_type": "code",
   "execution_count": null,
   "metadata": {
    "id": "YibJPS-9XLho"
   },
   "outputs": [],
   "source": [
    "modelo.compile(optimizer=\"adam\", loss=\"categorical_crossentropy\", metrics=[\"accuracy\"]) "
   ]
  },
  {
   "cell_type": "code",
   "execution_count": null,
   "metadata": {
    "colab": {
     "base_uri": "https://localhost:8080/"
    },
    "id": "iIpyYThqrlvE",
    "outputId": "5fa87b9a-164a-4336-8900-6a2052dbd7d6"
   },
   "outputs": [],
   "source": [
    "modelo.summary() # Printar a rede construída"
   ]
  },
  {
   "cell_type": "code",
   "execution_count": null,
   "metadata": {
    "colab": {
     "base_uri": "https://localhost:8080/",
     "height": 865
    },
    "id": "ol4ZP6yADC2q",
    "outputId": "03024250-4967-47e7-a04f-c326ff8c21e4"
   },
   "outputs": [],
   "source": [
    "plot_model(modelo, to_file='model_plot.png', show_shapes=True, show_layer_names=True) # Gerar uma imagem da rede"
   ]
  },
  {
   "cell_type": "markdown",
   "metadata": {
    "id": "6NdfAEv6omGY"
   },
   "source": [
    "### 1 - Passo 4 - Realizando o treinamento do algoritmo\n",
    "\n",
    "Para realizar o treinado na rede arquitetada na etapa anteriore, devemos selecionar alguns hiperparâmetros:\n",
    "\n",
    "- <code>epochs</code>: a propagação (forward) e a retropropagação (backward) de **todos** os exemplos de treinamento;\n",
    "- <code>batch_size</code>: é o número de exemplos de treino que serão passados em cada etapa de propagação e retropropagação (forward/backward). Uma época é dividida em vários **lotes** de treino até concluir a passagem sobre todos os exemplos. Um **lote** igual ao número de exemplos de treino significa que tudo será passado uma única vez, os erros de treinamento serão calculados e os pesos da rede atualizados. Isso contudo, consome muita memória RAM (para lembrar de todos os exemplos durante a época) e é mais demorado. Quebrar em lotes ajuda a acelerar e consumir menos memória RAM (quanto menores os lotes, mais rápido e menor o uso de RAM), contudo pior será a estimativa do gradiente na hora de atuliazar os pesos da rede;\n",
    "- <code>validation_split</code>: significa que iremos separar 20% dos dados de treinamento para realizar uma validação ao final de cada época de treinamento. A validação consistirá em passar os dados de validação na rede recém treinado e calcular o erro. Com isso saberemos se o número de épocas escolhido está causando overfitting (é esperado que quanto maior o número de épocas, menor será o erro de treinamento - ao custo de uma menor capacidade de generalização da rede);\n",
    "- <code>verbose</code>: para printar o progresso de treinamento;\n",
    "\n",
    "Ver https://keras.io/api/models/model_training_apis/ para mais detalhes."
   ]
  },
  {
   "cell_type": "code",
   "execution_count": null,
   "metadata": {
    "colab": {
     "base_uri": "https://localhost:8080/"
    },
    "id": "cAdKU-tCrU0i",
    "outputId": "8a755bc9-8fb4-422a-a7d1-33f6f50f7d4e"
   },
   "outputs": [],
   "source": [
    "# Vamos fazer o treinamento utilizando 25 epocas,\n",
    "# Os dados de treino serão dividos em lotes de 200 exemplos (serão necessáris 200 etapas a cada época)\n",
    "history = modelo.fit(train_images,train_labels,epochs=25, verbose=1, batch_size=200, validation_split=0.2)"
   ]
  },
  {
   "cell_type": "markdown",
   "metadata": {
    "id": "tr7fEjndciPH"
   },
   "source": [
    "Vamos plotar um gráfico do erro de treinamento e do erro de validação em função do número de épocas. O nosos ojetivo é ver a partir de qual número de épocas começa a ocorrer overfitting da rede."
   ]
  },
  {
   "cell_type": "code",
   "execution_count": null,
   "metadata": {
    "colab": {
     "base_uri": "https://localhost:8080/",
     "height": 476
    },
    "id": "N-c6L9HP1WO9",
    "outputId": "9869375a-cfc4-4659-e268-7fb65a21af04"
   },
   "outputs": [],
   "source": [
    "# Plotando o MSE para cada época de treinamento\n",
    "plt.plot(history.history['loss'])\n",
    "plt.plot(history.history['val_loss'])\n",
    "plt.title('Função de Custo vs Época')\n",
    "plt.ylabel('Função de Custo')\n",
    "plt.xlabel('Épocas')\n",
    "plt.legend(['treino', 'validação'], loc='upper right')\n",
    "plt.show()"
   ]
  },
  {
   "cell_type": "markdown",
   "metadata": {
    "id": "bgPhyCSZtS7P"
   },
   "source": [
    "Podemos perceber que nesse primeiro treinamento houve um overfitting, uma vez que o erro de teste realizado com o conjunto de validação estabilizar a partir de 10 épocas, enquanto o erro de treinamento continua diminuindo. Isso indica que, para manter a capacidade de generalização da rede, devemos retreiná-la com apenas 10 épocas. "
   ]
  },
  {
   "cell_type": "markdown",
   "metadata": {
    "id": "l7MFktcI0NpR"
   },
   "source": [
    "### 1 - Passo 5: testar e avaliar\n",
    "\n",
    "Nesta etapa iremos passar as 10 mil imagens de teste que o modelo treinado não viu durante o treinamento (nem a validação). Em seguida, calcularamos as métricas de desempenho mais tradicionais para a clssificação: matriz de confusão, acurácia, precisão, revocação e f1-score."
   ]
  },
  {
   "cell_type": "code",
   "execution_count": null,
   "metadata": {
    "colab": {
     "base_uri": "https://localhost:8080/"
    },
    "id": "A6nWsPYxdTgB",
    "outputId": "1132f690-e34e-481f-b7d1-f29680fec19b"
   },
   "outputs": [],
   "source": [
    "y_pred = modelo.predict(test_images, batch_size=200).argmax(axis=1)"
   ]
  },
  {
   "cell_type": "code",
   "execution_count": null,
   "metadata": {
    "colab": {
     "base_uri": "https://localhost:8080/"
    },
    "id": "9EIg-X208EcK",
    "outputId": "0f41568f-1da0-4f87-ccc1-167cd07e12c0"
   },
   "outputs": [],
   "source": [
    "y_pred"
   ]
  },
  {
   "cell_type": "code",
   "execution_count": null,
   "metadata": {
    "colab": {
     "base_uri": "https://localhost:8080/"
    },
    "id": "V2lbXFVL8Hay",
    "outputId": "feeb36fe-27c9-467b-b47b-455ebd9337cb"
   },
   "outputs": [],
   "source": [
    "test_labels"
   ]
  },
  {
   "cell_type": "code",
   "execution_count": null,
   "metadata": {
    "id": "a02wW85IdjIM"
   },
   "outputs": [],
   "source": [
    "cm_rn = confusion_matrix(test_labels, y_pred, labels = [0,1,2,3,4,5,6,7,8,9])"
   ]
  },
  {
   "cell_type": "code",
   "execution_count": null,
   "metadata": {
    "colab": {
     "base_uri": "https://localhost:8080/",
     "height": 484
    },
    "id": "YhHK0--edjOc",
    "outputId": "be17b429-4d5b-4b99-d6f0-561a56706eb0"
   },
   "outputs": [],
   "source": [
    "figure = plt.figure(figsize=(30, 20))\n",
    "disp = ConfusionMatrixDisplay(confusion_matrix = cm_rn, display_labels=[0,1,2,3,4,5,6,7,8,9])\n",
    "disp.plot(values_format='d') "
   ]
  },
  {
   "cell_type": "code",
   "execution_count": null,
   "metadata": {
    "colab": {
     "base_uri": "https://localhost:8080/"
    },
    "id": "sYxDNr0Pd42d",
    "outputId": "e2c4b9bb-ce7a-45be-f25f-5c5f05b8dfd1"
   },
   "outputs": [],
   "source": [
    "# Metricas de precisão, revocação, f1-score e acurácia.\n",
    "print(classification_report(test_labels, y_pred))"
   ]
  },
  {
   "cell_type": "markdown",
   "metadata": {
    "id": "3GprjV0bCMXX"
   },
   "source": [
    "Os resultados obtidos são melhores do que um classificador de maioria (10% de chance ao acaso para acurácia), mas estão piores do que um dos primeiros artigos publicados, em 2010 cerca e 79% de acurácia. Podemos fazer melhor?"
   ]
  },
  {
   "cell_type": "markdown",
   "metadata": {
    "id": "EulrACoeIxEU"
   },
   "source": [
    "## 1 - Retornando ao Passo 4': Criando um novo modelo\n",
    "\n",
    "Agora vamos criar um segundo modelo para tentar conseguir um resultado melhor. Vamos usar outros blocos de construição da rede: o <code>padding</code> e o <code>dropout</code>.\n",
    "\n",
    "O <code>padding</code>  é uma forma de realizar a convolução sem alterar a dimensão da saída da operação, adicionando uma margem com zeros na imagem.\n",
    "\n",
    "O <code>dropout</code> é uma técnica que faz com que alguns neurônios da rede sejam desativados aleatoriamente durante o treinamento. O objetivo disso é evitar o overfitting. Isso é similar a treinarmos diferentes redes (com diferentes neurônios) e obtermos a média delas como saída. No caso o dropout irá eliminar 20% dos neurônios durante o treinamento."
   ]
  },
  {
   "cell_type": "code",
   "execution_count": null,
   "metadata": {
    "id": "GAZ6OQJH1vTx"
   },
   "outputs": [],
   "source": [
    "model2 = tf.keras.Sequential()\n",
    "\n",
    "model2.add(Conv2D(32, (3, 3), input_shape=(32,32,3), activation='relu', padding='same')) \n",
    "model2.add(Dropout(0.2)) \n",
    "model2.add(Conv2D(32, (3, 3), activation='relu', padding='same')) \n",
    "model2.add(MaxPooling2D(pool_size=(2, 2))) \n",
    "model2.add(Conv2D(64, (3, 3), activation='relu', padding='same')) \n",
    "model2.add(Dropout(0.2)) \n",
    "model2.add(Conv2D(64, (3, 3), activation='relu', padding='same')) \n",
    "model2.add(MaxPooling2D(pool_size=(2, 2))) \n",
    "model2.add(Conv2D(128, (3, 3), activation='relu', padding='same')) \n",
    "model2.add(Dropout(0.2)) \n",
    "model2.add(Conv2D(128, (3, 3), activation='relu', padding='same')) \n",
    "model2.add(MaxPooling2D(pool_size=(2, 2))) \n",
    "model2.add(Flatten()) \n",
    "model2.add(Dropout(0.2)) \n",
    "model2.add(Dense(1024, activation='relu')) \n",
    "model2.add(Dropout(0.2)) \n",
    "model2.add(Dense(512, activation='relu')) \n",
    "model2.add(Dropout(0.2)) \n",
    "model2.add(Dense(10, activation='softmax'))\n",
    "\n",
    "model2.compile(optimizer=\"adam\", loss=\"categorical_crossentropy\", metrics=[\"accuracy\"])"
   ]
  },
  {
   "cell_type": "markdown",
   "metadata": {
    "id": "lvdugrf3KvzI"
   },
   "source": [
    "### 1 - Passo 4: realizando o novo treinamento:\n",
    "\n",
    "Perceba que esse treinamento irá durar substancialmente mais do que o primeiro, uma vez que temos mais processos ocorrendo ao longo da rede neural."
   ]
  },
  {
   "cell_type": "code",
   "execution_count": null,
   "metadata": {
    "colab": {
     "base_uri": "https://localhost:8080/"
    },
    "id": "3gcQtRjB18pS",
    "outputId": "ece06cac-f00a-4eff-eace-b674a51c9a27"
   },
   "outputs": [],
   "source": [
    "history_2 = model2.fit(train_images, train_labels, epochs=10, verbose=1, batch_size=200, validation_split=0.2)"
   ]
  },
  {
   "cell_type": "code",
   "execution_count": null,
   "metadata": {
    "colab": {
     "base_uri": "https://localhost:8080/",
     "height": 476
    },
    "id": "76p65jyr2NW6",
    "outputId": "6a5543d3-5e2d-4ad2-9158-d2c91eb025ab"
   },
   "outputs": [],
   "source": [
    "# Plotando o MSE para cada época de treinamento\n",
    "plt.plot(history_2.history['loss'])\n",
    "plt.plot(history_2.history['val_loss'])\n",
    "plt.title('Função de Custo vs Época')\n",
    "plt.ylabel('Função de Custo')\n",
    "plt.xlabel('Épocas')\n",
    "plt.legend(['treino', 'validação'], loc='upper right')\n",
    "plt.show()"
   ]
  },
  {
   "cell_type": "markdown",
   "metadata": {
    "id": "CljreHo-O_iQ"
   },
   "source": [
    "### 1 - Passo 5: avaliando o desempenho do novo classificador\n",
    "\n",
    "Agora, usando a porção de dados de teste, iremos realizar as previsões de todos os valores de saída, assim como fizemos com o outro modelo."
   ]
  },
  {
   "cell_type": "code",
   "execution_count": null,
   "metadata": {
    "colab": {
     "base_uri": "https://localhost:8080/"
    },
    "id": "UXFWE6FmK0Pq",
    "outputId": "2d89ff37-7343-4d5b-b582-7c7c8c13d362"
   },
   "outputs": [],
   "source": [
    "y_pred = model2.predict(test_images, batch_size=200).argmax(axis=1)"
   ]
  },
  {
   "cell_type": "code",
   "execution_count": null,
   "metadata": {
    "colab": {
     "base_uri": "https://localhost:8080/"
    },
    "id": "Wr4DPeV19r0r",
    "outputId": "828103b8-6e88-4a48-f056-c479bd67d216"
   },
   "outputs": [],
   "source": [
    "y_pred"
   ]
  },
  {
   "cell_type": "code",
   "execution_count": null,
   "metadata": {
    "id": "OGJvPtFqLqyM"
   },
   "outputs": [],
   "source": [
    "cm_rn = confusion_matrix(test_labels, y_pred, labels = [0,1,2,3,4,5,6,7,8,9])"
   ]
  },
  {
   "cell_type": "code",
   "execution_count": null,
   "metadata": {
    "colab": {
     "base_uri": "https://localhost:8080/",
     "height": 484
    },
    "id": "PKFwquotL5SG",
    "outputId": "2178a0f2-0feb-4274-a45d-19b47138bbab"
   },
   "outputs": [],
   "source": [
    "figure = plt.figure(figsize=(30, 20))\n",
    "disp = ConfusionMatrixDisplay(confusion_matrix = cm_rn, display_labels=[0,1,2,3,4,5,6,7,8,9])\n",
    "disp.plot(values_format='d') "
   ]
  },
  {
   "cell_type": "code",
   "execution_count": null,
   "metadata": {
    "colab": {
     "base_uri": "https://localhost:8080/"
    },
    "id": "m3p3ZwIxMiZU",
    "outputId": "829f36f6-9c35-4d4e-c55a-af0f4bece093"
   },
   "outputs": [],
   "source": [
    "# Metricas de precisão, revocação, f1-score e acurácia.\n",
    "print(classification_report(test_labels, y_pred))"
   ]
  },
  {
   "cell_type": "markdown",
   "metadata": {
    "id": "QKdNfgwp9vDJ"
   },
   "source": [
    "### 1 - Passo 6: salvar o modelo\n",
    "\n",
    "O modelos podem ser exportados como modelos pré-treinados no formato <code>.h5</code>, seguindo o comando abaixo:"
   ]
  },
  {
   "cell_type": "code",
   "execution_count": null,
   "metadata": {
    "id": "nHaf7Z7nGO5b"
   },
   "outputs": [],
   "source": [
    "model2.save('CNN_Classificador_2.h5')  # Para salvar"
   ]
  },
  {
   "cell_type": "code",
   "execution_count": null,
   "metadata": {
    "id": "KbYP4-HH9-iH"
   },
   "outputs": [],
   "source": [
    "novo_modelo = load_model('CNN_Classificador_2.h5')  # Para carregar"
   ]
  },
  {
   "cell_type": "markdown",
   "metadata": {
    "id": "57ZFsPWPvi25"
   },
   "source": [
    "------------------------\n",
    "## 2 - LDL Paper\n",
    "\n",
    "#### Descrição geral: \n",
    "Neste artigo são apresentados tutoriais introdutórios ao aprendizado profundo. São 6 scripts notebook abordando redes multiplayer perpectron, CNN, LSTM, RBM, GAN e Autoencoder.\n",
    "\n",
    "#### Objetivo:\n",
    "Entender a construção de redes neurais artificiais com arquiteturas diferentes para a solução de problemas diversos (não necessariamente da física).\n",
    "\n",
    "#### Referências:\n",
    "- Arruda, H. F. de, Benatti, A., Comin, C. H., & Costa, L. da F. (2022). Learning Deep Learning. In Revista Brasileira de Ensino de Física. FapUNIFESP (SciELO). https://doi.org/10.1590/1806-9126-rbef-2022-0101 \n",
    "- https://github.com/hfarruda/deeplearningtutorial "
   ]
  },
  {
   "cell_type": "code",
   "execution_count": null,
   "metadata": {
    "id": "2JthJCep1umv"
   },
   "outputs": [],
   "source": [
    "# Executar os tutoriais no github dos autores originais"
   ]
  },
  {
   "cell_type": "markdown",
   "metadata": {
    "id": "kaHjkwtEH_C8"
   },
   "source": [
    "--------------------------------------------------\n",
    "## Exercícios propostos\n",
    "\n",
    "- No artigo de Cuomo et al. 2022, https://arxiv.org/pdf/2201.05624.pdf, são discutidas arquiteturas de redes neurais com modificações para serem fiscamente informadas (rede **PINN - Physics-Informed Neural Network**). Tente construir uma dessas redes usando Keras e Tensor Flow.\n",
    "\n",
    "- Uma rede que utiliza equações diferenciais ordinárias é proposta por Chen et al. 2018, https://papers.nips.cc/paper_files/paper/2018/file/69386f6bb1dfed68692a24c8686939b9-Paper.pdf. Como construir uma NODE?\n",
    "\n",
    "- O livro Physics-based Deep Learning apresenta vários exemplos de adaptação de redes neurais para problemas de física. Você pode encontrar esses exemplos aqui: https://physicsbaseddeeplearning.org/intro.html"
   ]
  }
 ],
 "metadata": {
  "colab": {
   "provenance": []
  },
  "kernelspec": {
   "display_name": "Python 3",
   "language": "python",
   "name": "python3"
  },
  "language_info": {
   "codemirror_mode": {
    "name": "ipython",
    "version": 3
   },
   "file_extension": ".py",
   "mimetype": "text/x-python",
   "name": "python",
   "nbconvert_exporter": "python",
   "pygments_lexer": "ipython3",
   "version": "3.9.5"
  }
 },
 "nbformat": 4,
 "nbformat_minor": 1
}
